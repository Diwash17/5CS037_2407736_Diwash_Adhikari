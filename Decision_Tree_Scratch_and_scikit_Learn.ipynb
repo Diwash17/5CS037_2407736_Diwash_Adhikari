{
  "nbformat": 4,
  "nbformat_minor": 0,
  "metadata": {
    "colab": {
      "provenance": [],
      "include_colab_link": true
    },
    "kernelspec": {
      "name": "python3",
      "display_name": "Python 3"
    },
    "language_info": {
      "name": "python"
    }
  },
  "cells": [
    {
      "cell_type": "markdown",
      "metadata": {
        "id": "view-in-github",
        "colab_type": "text"
      },
      "source": [
        "<a href=\"https://colab.research.google.com/github/Diwash17/5CS037_2407736_2024_Diwash_Adhikari/blob/main/Decision_Tree_Scratch_and_scikit_Learn.ipynb\" target=\"_parent\"><img src=\"https://colab.research.google.com/assets/colab-badge.svg\" alt=\"Open In Colab\"/></a>"
      ]
    },
    {
      "cell_type": "markdown",
      "source": [
        "# Custom vs. Scikit learn Built Decision Tree"
      ],
      "metadata": {
        "id": "QI2E65-d5ndT"
      }
    },
    {
      "cell_type": "markdown",
      "source": [
        "## Buld a Custom Decision Tree"
      ],
      "metadata": {
        "id": "7uIyiQsd53sk"
      }
    },
    {
      "cell_type": "code",
      "execution_count": 1,
      "metadata": {
        "id": "9fW-OvrOr_1b"
      },
      "outputs": [],
      "source": [
        "import numpy as np\n",
        "\n",
        "class CustomDecisionTree:\n",
        "    def __init__(self, max_depth=None):\n",
        "        \"\"\"\n",
        "        Initializes the decision tree with the specified maximum depth.\n",
        "\n",
        "        Parameters:\n",
        "        max_depth (int, optional): The maximum depth of the tree. If None, the tree is expanded until all leaves are pure or contain fewer than the minimum samples required to split.\n",
        "        \"\"\"\n",
        "        self.max_depth = max_depth\n",
        "        self.tree = None\n",
        "\n",
        "    def fit(self, X, y):\n",
        "        \"\"\"\n",
        "        Trains the decision tree model using the provided training data.\n",
        "\n",
        "        Parameters:\n",
        "        X (array-like): Feature matrix (n_samples, n_features) for training the model.\n",
        "        y (array-like): Target labels (n_samples,) for training the model.\n",
        "        \"\"\"\n",
        "        self.tree = self._build_tree(X, y)\n",
        "\n",
        "    def _build_tree(self, X, y, depth=0):\n",
        "        \"\"\"\n",
        "        Recursively builds the decision tree by splitting the data based on the best feature and threshold.\n",
        "\n",
        "        Parameters:\n",
        "        X (array-like): Feature matrix (n_samples, n_features) for splitting.\n",
        "        y (array-like): Target labels (n_samples,) for splitting.\n",
        "        depth (int, optional): Current depth of the tree during recursion.\n",
        "\n",
        "        Returns:\n",
        "        dict: A dictionary representing the structure of the tree, containing the best feature index, threshold, and recursive tree nodes.\n",
        "        \"\"\"\n",
        "        num_samples, num_features = X.shape\n",
        "        unique_classes = np.unique(y)\n",
        "\n",
        "        # Stopping conditions: pure node or reached max depth\n",
        "        if len(unique_classes) == 1:\n",
        "            return {'class': unique_classes[0]}\n",
        "        if num_samples == 0 or (self.max_depth and depth >= self.max_depth):\n",
        "            return {'class': np.bincount(y).argmax()}\n",
        "\n",
        "        # Find the best split based on Information Gain (using Entropy)\n",
        "        best_info_gain = -float('inf')\n",
        "        best_split = None\n",
        "        for feature_idx in range(num_features):\n",
        "            thresholds = np.unique(X[:, feature_idx])\n",
        "            for threshold in thresholds:\n",
        "                left_mask = X[:, feature_idx] <= threshold\n",
        "                right_mask = ~left_mask\n",
        "                left_y = y[left_mask]\n",
        "                right_y = y[right_mask]\n",
        "\n",
        "                info_gain = self._information_gain(y, left_y, right_y)\n",
        "\n",
        "                if info_gain > best_info_gain:\n",
        "                    best_info_gain = info_gain\n",
        "                    best_split = {\n",
        "                        'feature_idx': feature_idx,\n",
        "                        'threshold': threshold,\n",
        "                        'left_y': left_y,\n",
        "                        'right_y': right_y,\n",
        "                    }\n",
        "\n",
        "        if best_split is None:\n",
        "            return {'class': np.bincount(y).argmax()}\n",
        "\n",
        "        # Recursively build the left and right subtrees\n",
        "        left_tree = self._build_tree(X[best_split['left_y']], best_split['left_y'], depth + 1)\n",
        "        right_tree = self._build_tree(X[best_split['right_y']], best_split['right_y'], depth + 1)\n",
        "\n",
        "        return {'feature_idx': best_split['feature_idx'], 'threshold': best_split['threshold'],\n",
        "                'left_tree': left_tree, 'right_tree': right_tree}\n",
        "\n",
        "    def _information_gain(self, parent, left, right):\n",
        "        \"\"\"\n",
        "        Computes the Information Gain between the parent node and the left/right child nodes.\n",
        "\n",
        "        Parameters:\n",
        "        parent (array-like): The labels of the parent node.\n",
        "        left (array-like): The labels of the left child node.\n",
        "        right (array-like): The labels of the right child node.\n",
        "\n",
        "        Returns:\n",
        "        float: The Information Gain of the split.\n",
        "        \"\"\"\n",
        "        parent_entropy = self._entropy(parent)\n",
        "        left_entropy = self._entropy(left)\n",
        "        right_entropy = self._entropy(right)\n",
        "\n",
        "        # Information Gain = Entropy(parent) - (weighted average of left and right entropies)\n",
        "        weighted_avg_entropy = (len(left) / len(parent)) * left_entropy + (len(right) / len(parent)) * right_entropy\n",
        "        return parent_entropy - weighted_avg_entropy\n",
        "\n",
        "    def _entropy(self, y):\n",
        "        \"\"\"\n",
        "        Computes the entropy of a set of labels.\n",
        "\n",
        "        Parameters:\n",
        "        y (array-like): The labels for which entropy is calculated.\n",
        "\n",
        "        Returns:\n",
        "        float: The entropy of the labels.\n",
        "        \"\"\"\n",
        "        # Calculate the probability of each class\n",
        "        class_probs = np.bincount(y) / len(y)\n",
        "        # Compute the entropy using the formula: -sum(p * log2(p))\n",
        "        return -np.sum(class_probs * np.log2(class_probs + 1e-9))  # Added small epsilon to avoid log(0)\n",
        "\n",
        "    def predict(self, X):\n",
        "        \"\"\"\n",
        "        Predicts the target labels for the given test data based on the trained decision tree.\n",
        "\n",
        "        Parameters:\n",
        "        X (array-like): Feature matrix (n_samples, n_features) for prediction.\n",
        "\n",
        "        Returns:\n",
        "        list: A list of predicted target labels (n_samples,).\n",
        "        \"\"\"\n",
        "        return [self._predict_single(x, self.tree) for x in X]\n",
        "\n",
        "    def _predict_single(self, x, tree):\n",
        "        \"\"\"\n",
        "        Recursively predicts the target label for a single sample by traversing the tree.\n",
        "\n",
        "        Parameters:\n",
        "        x (array-like): A single feature vector for prediction.\n",
        "        tree (dict): The current subtree or node to evaluate.\n",
        "\n",
        "        Returns:\n",
        "        int: The predicted class label for the sample.\n",
        "        \"\"\"\n",
        "        if 'class' in tree:\n",
        "            return tree['class']\n",
        "\n",
        "        feature_val = x[tree['feature_idx']]\n",
        "        if feature_val <= tree['threshold']:\n",
        "            return self._predict_single(x, tree['left_tree'])\n",
        "        else:\n",
        "            return self._predict_single(x, tree['right_tree'])\n"
      ]
    },
    {
      "cell_type": "markdown",
      "source": [
        "## Necessary Imports"
      ],
      "metadata": {
        "id": "XU15GZcWsJDM"
      }
    },
    {
      "cell_type": "code",
      "source": [
        "import numpy as np\n",
        "import pandas as pd\n",
        "from sklearn.datasets import load_iris\n",
        "from sklearn.model_selection import train_test_split\n",
        "from sklearn.tree import DecisionTreeClassifier\n",
        "from sklearn.metrics import accuracy_score"
      ],
      "metadata": {
        "id": "-g3DdwQksGsO"
      },
      "execution_count": 2,
      "outputs": []
    },
    {
      "cell_type": "markdown",
      "source": [
        "## Load and Split the Iris Dataset"
      ],
      "metadata": {
        "id": "UxZTUicosMvN"
      }
    },
    {
      "cell_type": "code",
      "source": [
        "# Load the Iris dataset\n",
        "data = load_iris()\n",
        "X = data.data\n",
        "y = data.target\n",
        "\n",
        "# Split into training and test sets (80% training, 20% test)\n",
        "X_train, X_test, y_train, y_test = train_test_split(X, y, test_size=0.2, random_state=42)\n"
      ],
      "metadata": {
        "id": "ThUBcB5xsA8E"
      },
      "execution_count": 3,
      "outputs": []
    },
    {
      "cell_type": "markdown",
      "source": [
        "## Train and Evaluate the Custom Decision Tree"
      ],
      "metadata": {
        "id": "4dGanBWusT01"
      }
    },
    {
      "cell_type": "code",
      "source": [
        "# Train the custom decision tree\n",
        "custom_tree = CustomDecisionTree(max_depth=3)\n",
        "custom_tree.fit(X_train, y_train)\n",
        "\n",
        "# Predict on the test set\n",
        "y_pred_custom = custom_tree.predict(X_test)\n",
        "\n",
        "# Calculate accuracy\n",
        "accuracy_custom = accuracy_score(y_test, y_pred_custom)\n",
        "print(f\"Custom Decision Tree Accuracy: {accuracy_custom:.4f}\")\n"
      ],
      "metadata": {
        "colab": {
          "base_uri": "https://localhost:8080/"
        },
        "id": "dKs5ce4msXYk",
        "outputId": "77ab721e-01ef-43b5-d9e4-1b815382d743"
      },
      "execution_count": 4,
      "outputs": [
        {
          "output_type": "stream",
          "name": "stdout",
          "text": [
            "Custom Decision Tree Accuracy: 0.8000\n"
          ]
        }
      ]
    },
    {
      "cell_type": "markdown",
      "source": [
        "## Train and Evaluate the scikit-learn Decision Tree"
      ],
      "metadata": {
        "id": "DETmEUtuseDX"
      }
    },
    {
      "cell_type": "code",
      "source": [
        "# Train the Scikit-learn decision tree\n",
        "sklearn_tree = DecisionTreeClassifier(max_depth=3, random_state=42)\n",
        "sklearn_tree.fit(X_train, y_train)\n",
        "\n",
        "# Predict on the test set\n",
        "y_pred_sklearn = sklearn_tree.predict(X_test)\n",
        "\n",
        "# Calculate accuracy\n",
        "accuracy_sklearn = accuracy_score(y_test, y_pred_sklearn)\n",
        "print(f\"Scikit-learn Decision Tree Accuracy: {accuracy_sklearn:.4f}\")\n"
      ],
      "metadata": {
        "colab": {
          "base_uri": "https://localhost:8080/"
        },
        "id": "d8wPUUMusYoR",
        "outputId": "cb1c1a09-3b03-4629-9091-c38b591c9df4"
      },
      "execution_count": 5,
      "outputs": [
        {
          "output_type": "stream",
          "name": "stdout",
          "text": [
            "Scikit-learn Decision Tree Accuracy: 1.0000\n"
          ]
        }
      ]
    },
    {
      "cell_type": "markdown",
      "source": [
        "## Result Comparision"
      ],
      "metadata": {
        "id": "Dx8YHB4uspeD"
      }
    },
    {
      "cell_type": "code",
      "source": [
        "print(f\"Accuracy Comparison:\")\n",
        "print(f\"Custom Decision Tree: {accuracy_custom:.4f}\")\n",
        "print(f\"Scikit-learn Decision Tree: {accuracy_sklearn:.4f}\")\n"
      ],
      "metadata": {
        "colab": {
          "base_uri": "https://localhost:8080/"
        },
        "id": "yN97p23DsngA",
        "outputId": "c4f263d7-228e-45ee-cffa-a17f403c1e11"
      },
      "execution_count": 6,
      "outputs": [
        {
          "output_type": "stream",
          "name": "stdout",
          "text": [
            "Accuracy Comparison:\n",
            "Custom Decision Tree: 0.8000\n",
            "Scikit-learn Decision Tree: 1.0000\n"
          ]
        }
      ]
    },
    {
      "cell_type": "code",
      "source": [
        "from sklearn.tree import plot_tree"
      ],
      "metadata": {
        "id": "-ryh0U9OssqQ"
      },
      "execution_count": 7,
      "outputs": []
    },
    {
      "cell_type": "code",
      "source": [
        "plot_tree(sklearn_tree, feature_names=data.feature_names, class_names=data.target_names, filled=True)\n"
      ],
      "metadata": {
        "colab": {
          "base_uri": "https://localhost:8080/",
          "height": 602
        },
        "id": "awfpTeXP65-o",
        "outputId": "4ab377f6-26f0-47b9-b4d3-5b54f5392bdd"
      },
      "execution_count": 8,
      "outputs": [
        {
          "output_type": "execute_result",
          "data": {
            "text/plain": [
              "[Text(0.375, 0.875, 'petal length (cm) <= 2.45\\ngini = 0.667\\nsamples = 120\\nvalue = [40, 41, 39]\\nclass = versicolor'),\n",
              " Text(0.25, 0.625, 'gini = 0.0\\nsamples = 40\\nvalue = [40, 0, 0]\\nclass = setosa'),\n",
              " Text(0.3125, 0.75, 'True  '),\n",
              " Text(0.5, 0.625, 'petal length (cm) <= 4.75\\ngini = 0.5\\nsamples = 80\\nvalue = [0, 41, 39]\\nclass = versicolor'),\n",
              " Text(0.4375, 0.75, '  False'),\n",
              " Text(0.25, 0.375, 'petal width (cm) <= 1.65\\ngini = 0.053\\nsamples = 37\\nvalue = [0, 36, 1]\\nclass = versicolor'),\n",
              " Text(0.125, 0.125, 'gini = 0.0\\nsamples = 36\\nvalue = [0, 36, 0]\\nclass = versicolor'),\n",
              " Text(0.375, 0.125, 'gini = 0.0\\nsamples = 1\\nvalue = [0, 0, 1]\\nclass = virginica'),\n",
              " Text(0.75, 0.375, 'petal width (cm) <= 1.75\\ngini = 0.206\\nsamples = 43\\nvalue = [0, 5, 38]\\nclass = virginica'),\n",
              " Text(0.625, 0.125, 'gini = 0.5\\nsamples = 8\\nvalue = [0, 4, 4]\\nclass = versicolor'),\n",
              " Text(0.875, 0.125, 'gini = 0.056\\nsamples = 35\\nvalue = [0, 1, 34]\\nclass = virginica')]"
            ]
          },
          "metadata": {},
          "execution_count": 8
        },
        {
          "output_type": "display_data",
          "data": {
            "text/plain": [
              "<Figure size 640x480 with 1 Axes>"
            ],
            "image/png": "[encoded data removed]"
          },
          "metadata": {}
        }
      ]
    }
  ]
}